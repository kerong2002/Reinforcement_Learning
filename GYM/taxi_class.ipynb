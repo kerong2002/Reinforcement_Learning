{
 "cells": [
  {
   "cell_type": "code",
   "execution_count": 1,
   "id": "9caf5881",
   "metadata": {},
   "outputs": [],
   "source": [
    "import numpy as np\n",
    "import gym\n",
    "import random"
   ]
  },
  {
   "cell_type": "code",
   "execution_count": 6,
   "id": "a0d39b40",
   "metadata": {},
   "outputs": [],
   "source": [
    "class QLearningAgent:\n",
    "    def __init__(self, env, learning_rate=0.7, discount_rate=0.9, max_epsilon=1.0, min_epsilon=0.01, decay_rate=0.005):\n",
    "        self.env = env\n",
    "        self.learning_rate = learning_rate\n",
    "        self.discount_rate = discount_rate\n",
    "        self.max_epsilon = max_epsilon\n",
    "        self.min_epsilon = min_epsilon\n",
    "        self.decay_rate = decay_rate\n",
    "        self.num_episodes = 1000\n",
    "        self.max_steps = 99\n",
    "        self.epsilon = max_epsilon  # Initialize epsilon\n",
    "\n",
    "        self.q_table = np.zeros((env.observation_space.n, env.action_space.n))\n",
    "    def epsilon_greedy_policy(self, state):\n",
    "        exp_exp_tradeoff = random.uniform(0, 1)\n",
    "\n",
    "        if exp_exp_tradeoff > self.epsilon:\n",
    "            action = np.argmax(self.q_table[state, :])\n",
    "        else:\n",
    "            action = self.env.action_space.sample()\n",
    "        return action\n",
    "\n",
    "    def train_agent(self):\n",
    "        for episode in range(self.num_episodes):\n",
    "            state = self.env.reset()[0]\n",
    "            done = False\n",
    "\n",
    "            for s in range(self.max_steps):\n",
    "                action = self.epsilon_greedy_policy(state)\n",
    "                new_state, reward, done, truncated, info = self.env.step(action)\n",
    "\n",
    "                # Q-learning algorithm\n",
    "                self.q_table[state, action] = self.q_table[state, action] + \\\n",
    "                    self.learning_rate * (reward + self.discount_rate * np.max(self.q_table[new_state, :]) -\n",
    "                                          self.q_table[state, action])\n",
    "\n",
    "                state = new_state\n",
    "\n",
    "                if done:\n",
    "                    break\n",
    "\n",
    "            self.epsilon = self.min_epsilon + (self.max_epsilon - self.min_epsilon) * np.exp(-self.decay_rate * episode)\n",
    "\n",
    "    def show_trained_agent(self):\n",
    "        self.env = gym.make('Taxi-v3', render_mode = \"human\")\n",
    "        state = self.env.reset()[0]\n",
    "        done = False\n",
    "        rewards = 0\n",
    "\n",
    "        for s in range(self.max_steps):\n",
    "            print(\"TRAINED AGENT\")\n",
    "            print(\"Step {}\".format(s+1))\n",
    "\n",
    "            action = np.argmax(self.q_table[state, :])\n",
    "            new_state, reward, done, truncated, info = self.env.step(action)\n",
    "            rewards += reward\n",
    "\n",
    "            print(f\"score: {rewards}\")\n",
    "            state = new_state\n",
    "\n",
    "            if done:\n",
    "                break\n",
    "\n",
    "        self.env.close()\n",
    "\n"
   ]
  },
  {
   "cell_type": "code",
   "execution_count": 7,
   "id": "ff65cd65",
   "metadata": {},
   "outputs": [
    {
     "name": "stderr",
     "output_type": "stream",
     "text": [
      "D:\\anaconda\\envs\\yolov5\\lib\\site-packages\\gym\\utils\\passive_env_checker.py:233: DeprecationWarning: `np.bool8` is a deprecated alias for `np.bool_`.  (Deprecated NumPy 1.24)\n",
      "  if not isinstance(terminated, (bool, np.bool8)):\n"
     ]
    },
    {
     "name": "stdout",
     "output_type": "stream",
     "text": [
      "TRAINED AGENT\n",
      "Step 1\n"
     ]
    },
    {
     "name": "stderr",
     "output_type": "stream",
     "text": [
      "D:\\anaconda\\envs\\yolov5\\lib\\site-packages\\gym\\utils\\passive_env_checker.py:233: DeprecationWarning: `np.bool8` is a deprecated alias for `np.bool_`.  (Deprecated NumPy 1.24)\n",
      "  if not isinstance(terminated, (bool, np.bool8)):\n"
     ]
    },
    {
     "name": "stdout",
     "output_type": "stream",
     "text": [
      "score: -1\n",
      "TRAINED AGENT\n",
      "Step 2\n",
      "score: -2\n",
      "TRAINED AGENT\n",
      "Step 3\n",
      "score: -3\n",
      "TRAINED AGENT\n",
      "Step 4\n",
      "score: -4\n",
      "TRAINED AGENT\n",
      "Step 5\n",
      "score: -5\n",
      "TRAINED AGENT\n",
      "Step 6\n",
      "score: -6\n",
      "TRAINED AGENT\n",
      "Step 7\n",
      "score: -7\n",
      "TRAINED AGENT\n",
      "Step 8\n",
      "score: -8\n",
      "TRAINED AGENT\n",
      "Step 9\n",
      "score: -9\n",
      "TRAINED AGENT\n",
      "Step 10\n",
      "score: -10\n",
      "TRAINED AGENT\n",
      "Step 11\n",
      "score: 10\n"
     ]
    }
   ],
   "source": [
    "if __name__ == \"__main__\":\n",
    "    env = gym.make('Taxi-v3')\n",
    "    agent = QLearningAgent(env)\n",
    "    agent.train_agent()\n",
    "    agent.show_trained_agent()"
   ]
  },
  {
   "cell_type": "code",
   "execution_count": null,
   "id": "9ffab35e",
   "metadata": {},
   "outputs": [],
   "source": []
  },
  {
   "cell_type": "code",
   "execution_count": null,
   "id": "950c3550",
   "metadata": {},
   "outputs": [],
   "source": []
  }
 ],
 "metadata": {
  "kernelspec": {
   "display_name": "Python [conda env:yolov5]",
   "language": "python",
   "name": "conda-env-yolov5-py"
  },
  "language_info": {
   "codemirror_mode": {
    "name": "ipython",
    "version": 3
   },
   "file_extension": ".py",
   "mimetype": "text/x-python",
   "name": "python",
   "nbconvert_exporter": "python",
   "pygments_lexer": "ipython3",
   "version": "3.10.9"
  }
 },
 "nbformat": 4,
 "nbformat_minor": 5
}
